{
 "cells": [
  {
   "cell_type": "code",
   "execution_count": 27,
   "metadata": {},
   "outputs": [],
   "source": [
    "import pandas as pd\n",
    "import os\n",
    "import glob\n",
    "import seaborn as sns\n",
    "import matplotlib as plt"
   ]
  },
  {
   "cell_type": "code",
   "execution_count": 21,
   "metadata": {},
   "outputs": [],
   "source": [
    "# Combine CO2 emission files\n",
    "file_list = [\"../out/emissions_assignment_1\",\n",
    "             \"../out/emissions_assignment_2\",\n",
    "             \"../out/emissions_assignment_3\"]\n",
    "\n",
    "df_overall = [pd.read_csv(file) for file in file_list]\n",
    "df_overall = pd.concat(df_overall, ignore_index = True)\n",
    "\n",
    "#df_overall.to_csv(\"../out/combined_emissions.csv\", index = False)"
   ]
  },
  {
   "cell_type": "code",
   "execution_count": 22,
   "metadata": {},
   "outputs": [],
   "source": [
    "# Combine subtask-specific emission files\n",
    "\n",
    "base_file_list = glob.glob(os.path.join(\"../out/emissions_base_*.csv\"))\n",
    "\n",
    "df = [pd.read_csv(file) for file in base_file_list]\n",
    "df = pd.concat(df, ignore_index = True)\n",
    "\n",
    "#df.to_csv(\"../out/combined_base_emissions.csv\", index = False)\n",
    "\n",
    "df[\"emissions_rate\"] = df[\"emissions_rate\"]*10000"
   ]
  }
 ],
 "metadata": {
  "kernelspec": {
   "display_name": "Python 3",
   "language": "python",
   "name": "python3"
  },
  "language_info": {
   "codemirror_mode": {
    "name": "ipython",
    "version": 3
   },
   "file_extension": ".py",
   "mimetype": "text/x-python",
   "name": "python",
   "nbconvert_exporter": "python",
   "pygments_lexer": "ipython3",
   "version": "3.10.12"
  }
 },
 "nbformat": 4,
 "nbformat_minor": 2
}
