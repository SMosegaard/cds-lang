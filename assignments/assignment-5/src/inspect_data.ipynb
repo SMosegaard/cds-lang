{
 "cells": [
  {
   "cell_type": "code",
   "execution_count": 2,
   "metadata": {},
   "outputs": [],
   "source": [
    "import pandas as pd"
   ]
  },
  {
   "cell_type": "code",
   "execution_count": 3,
   "metadata": {},
   "outputs": [
    {
     "data": {
      "text/html": [
       "<div>\n",
       "<style scoped>\n",
       "    .dataframe tbody tr th:only-of-type {\n",
       "        vertical-align: middle;\n",
       "    }\n",
       "\n",
       "    .dataframe tbody tr th {\n",
       "        vertical-align: top;\n",
       "    }\n",
       "\n",
       "    .dataframe thead th {\n",
       "        text-align: right;\n",
       "    }\n",
       "</style>\n",
       "<table border=\"1\" class=\"dataframe\">\n",
       "  <thead>\n",
       "    <tr style=\"text-align: right;\">\n",
       "      <th></th>\n",
       "      <th>timestamp</th>\n",
       "      <th>project_name</th>\n",
       "      <th>run_id</th>\n",
       "      <th>duration</th>\n",
       "      <th>emissions</th>\n",
       "      <th>emissions_rate</th>\n",
       "      <th>cpu_power</th>\n",
       "      <th>gpu_power</th>\n",
       "      <th>ram_power</th>\n",
       "      <th>cpu_energy</th>\n",
       "      <th>...</th>\n",
       "      <th>cpu_count</th>\n",
       "      <th>cpu_model</th>\n",
       "      <th>gpu_count</th>\n",
       "      <th>gpu_model</th>\n",
       "      <th>longitude</th>\n",
       "      <th>latitude</th>\n",
       "      <th>ram_total_size</th>\n",
       "      <th>tracking_mode</th>\n",
       "      <th>on_cloud</th>\n",
       "      <th>pue</th>\n",
       "    </tr>\n",
       "  </thead>\n",
       "  <tbody>\n",
       "    <tr>\n",
       "      <th>0</th>\n",
       "      <td>2024-05-02T10:17:12</td>\n",
       "      <td>assignment 1</td>\n",
       "      <td>02872c40-cdda-48af-8bc3-5366bf628787</td>\n",
       "      <td>327.659156</td>\n",
       "      <td>0.003016</td>\n",
       "      <td>0.000009</td>\n",
       "      <td>42.5</td>\n",
       "      <td>0.0</td>\n",
       "      <td>141.200752</td>\n",
       "      <td>0.003868</td>\n",
       "      <td>...</td>\n",
       "      <td>64</td>\n",
       "      <td>Intel(R) Xeon(R) Gold 6130 CPU @ 2.10GHz</td>\n",
       "      <td>NaN</td>\n",
       "      <td>NaN</td>\n",
       "      <td>12.5775</td>\n",
       "      <td>55.684</td>\n",
       "      <td>376.535339</td>\n",
       "      <td>machine</td>\n",
       "      <td>N</td>\n",
       "      <td>1.0</td>\n",
       "    </tr>\n",
       "  </tbody>\n",
       "</table>\n",
       "<p>1 rows × 31 columns</p>\n",
       "</div>"
      ],
      "text/plain": [
       "             timestamp  project_name                                run_id  \\\n",
       "0  2024-05-02T10:17:12  assignment 1  02872c40-cdda-48af-8bc3-5366bf628787   \n",
       "\n",
       "     duration  emissions  emissions_rate  cpu_power  gpu_power   ram_power  \\\n",
       "0  327.659156   0.003016        0.000009       42.5        0.0  141.200752   \n",
       "\n",
       "   cpu_energy  ...  cpu_count                                 cpu_model  \\\n",
       "0    0.003868  ...         64  Intel(R) Xeon(R) Gold 6130 CPU @ 2.10GHz   \n",
       "\n",
       "   gpu_count gpu_model longitude latitude  ram_total_size  tracking_mode  \\\n",
       "0        NaN       NaN   12.5775   55.684      376.535339        machine   \n",
       "\n",
       "  on_cloud  pue  \n",
       "0        N  1.0  \n",
       "\n",
       "[1 rows x 31 columns]"
      ]
     },
     "execution_count": 3,
     "metadata": {},
     "output_type": "execute_result"
    }
   ],
   "source": [
    "assignmnet1_emission = pd.read_csv(\"../out/emissions_assignment1.csv\")\n",
    "assignmnet1_emission"
   ]
  }
 ],
 "metadata": {
  "kernelspec": {
   "display_name": "Python 3",
   "language": "python",
   "name": "python3"
  },
  "language_info": {
   "codemirror_mode": {
    "name": "ipython",
    "version": 3
   },
   "file_extension": ".py",
   "mimetype": "text/x-python",
   "name": "python",
   "nbconvert_exporter": "python",
   "pygments_lexer": "ipython3",
   "version": "3.10.12"
  }
 },
 "nbformat": 4,
 "nbformat_minor": 2
}
