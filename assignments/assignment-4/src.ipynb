{
 "cells": [
  {
   "cell_type": "code",
   "execution_count": 1,
   "metadata": {},
   "outputs": [
    {
     "name": "stderr",
     "output_type": "stream",
     "text": [
      "2024-04-18 12:19:00.584706: I external/local_tsl/tsl/cuda/cudart_stub.cc:32] Could not find cuda drivers on your machine, GPU will not be used.\n",
      "2024-04-18 12:19:00.589428: I external/local_tsl/tsl/cuda/cudart_stub.cc:32] Could not find cuda drivers on your machine, GPU will not be used.\n",
      "2024-04-18 12:19:00.638210: I tensorflow/core/platform/cpu_feature_guard.cc:210] This TensorFlow binary is optimized to use available CPU instructions in performance-critical operations.\n",
      "To enable the following instructions: AVX2 AVX512F FMA, in other operations, rebuild TensorFlow with the appropriate compiler flags.\n",
      "2024-04-18 12:19:01.571244: W tensorflow/compiler/tf2tensorrt/utils/py_utils.cc:38] TF-TRT Warning: Could not find TensorRT\n"
     ]
    }
   ],
   "source": [
    "# pip install transformers tensorflow tf-keras matplotlib pandas seaborn\n",
    "import pandas as pd\n",
    "import matplotlib\n",
    "import tensorflow as tf\n",
    "import matplotlib.pyplot as plt\n",
    "import seaborn as sns\n",
    "\n",
    "from transformers import pipeline, AutoModelForTokenClassification, AutoTokenizer"
   ]
  },
  {
   "cell_type": "code",
   "execution_count": 2,
   "metadata": {},
   "outputs": [
    {
     "name": "stderr",
     "output_type": "stream",
     "text": [
      "All model checkpoint layers were used when initializing TFRobertaForSequenceClassification.\n",
      "\n",
      "All the layers of TFRobertaForSequenceClassification were initialized from the model checkpoint at j-hartmann/emotion-english-distilroberta-base.\n",
      "If your task is similar to the task the model of the checkpoint was trained on, you can already use TFRobertaForSequenceClassification for predictions without further training.\n",
      "/home/ucloud/.local/lib/python3.10/site-packages/transformers/pipelines/text_classification.py:104: UserWarning: `return_all_scores` is now deprecated,  if want a similar functionality use `top_k=None` instead of `return_all_scores=True` or `top_k=1` instead of `return_all_scores=False`.\n",
      "  warnings.warn(\n"
     ]
    }
   ],
   "source": [
    "classifier = pipeline(\"text-classification\", \n",
    "                      model = \"j-hartmann/emotion-english-distilroberta-base\", # specific model !\n",
    "                      return_all_scores = False) # True"
   ]
  },
  {
   "cell_type": "markdown",
   "metadata": {},
   "source": [
    "### Predict emotion scores for all lines in the data\n"
   ]
  },
  {
   "cell_type": "code",
   "execution_count": 3,
   "metadata": {},
   "outputs": [],
   "source": [
    "data = pd.read_csv(\"../../../../cds-lang-data/GoT-scripts/Game_of_Thrones_Script.csv\")"
   ]
  },
  {
   "cell_type": "code",
   "execution_count": 13,
   "metadata": {},
   "outputs": [
    {
     "name": "stderr",
     "output_type": "stream",
     "text": [
      "/tmp/ipykernel_3084/2380327033.py:6: SettingWithCopyWarning: \n",
      "A value is trying to be set on a copy of a slice from a DataFrame.\n",
      "Try using .loc[row_indexer,col_indexer] = value instead\n",
      "\n",
      "See the caveats in the documentation: https://pandas.pydata.org/pandas-docs/stable/user_guide/indexing.html#returning-a-view-versus-a-copy\n",
      "  data3.loc[index, \"predicted_emotion\"] = predicted_emotion\n"
     ]
    }
   ],
   "source": [
    "data3 = data.head(4000)\n",
    "\n",
    "for index, row in data3.iterrows():\n",
    "        if type(row[\"Sentence\"]) == str:\n",
    "            predicted_emotion = classifier(row[\"Sentence\"])[0]['label']\n",
    "            data3.loc[index, \"predicted_emotion\"] = predicted_emotion\n",
    "\n"
   ]
  },
  {
   "cell_type": "code",
   "execution_count": 14,
   "metadata": {},
   "outputs": [
    {
     "data": {
      "text/html": [
       "<div>\n",
       "<style scoped>\n",
       "    .dataframe tbody tr th:only-of-type {\n",
       "        vertical-align: middle;\n",
       "    }\n",
       "\n",
       "    .dataframe tbody tr th {\n",
       "        vertical-align: top;\n",
       "    }\n",
       "\n",
       "    .dataframe thead th {\n",
       "        text-align: right;\n",
       "    }\n",
       "</style>\n",
       "<table border=\"1\" class=\"dataframe\">\n",
       "  <thead>\n",
       "    <tr style=\"text-align: right;\">\n",
       "      <th></th>\n",
       "      <th>Release Date</th>\n",
       "      <th>Season</th>\n",
       "      <th>Episode</th>\n",
       "      <th>Episode Title</th>\n",
       "      <th>Name</th>\n",
       "      <th>Sentence</th>\n",
       "      <th>predicted_emotion</th>\n",
       "    </tr>\n",
       "  </thead>\n",
       "  <tbody>\n",
       "    <tr>\n",
       "      <th>0</th>\n",
       "      <td>2011-04-17</td>\n",
       "      <td>Season 1</td>\n",
       "      <td>Episode 1</td>\n",
       "      <td>Winter is Coming</td>\n",
       "      <td>waymar royce</td>\n",
       "      <td>What do you expect? They're savages. One lot s...</td>\n",
       "      <td>disgust</td>\n",
       "    </tr>\n",
       "    <tr>\n",
       "      <th>1</th>\n",
       "      <td>2011-04-17</td>\n",
       "      <td>Season 1</td>\n",
       "      <td>Episode 1</td>\n",
       "      <td>Winter is Coming</td>\n",
       "      <td>will</td>\n",
       "      <td>I've never seen wildlings do a thing like this...</td>\n",
       "      <td>disgust</td>\n",
       "    </tr>\n",
       "    <tr>\n",
       "      <th>2</th>\n",
       "      <td>2011-04-17</td>\n",
       "      <td>Season 1</td>\n",
       "      <td>Episode 1</td>\n",
       "      <td>Winter is Coming</td>\n",
       "      <td>waymar royce</td>\n",
       "      <td>How close did you get?</td>\n",
       "      <td>surprise</td>\n",
       "    </tr>\n",
       "    <tr>\n",
       "      <th>3</th>\n",
       "      <td>2011-04-17</td>\n",
       "      <td>Season 1</td>\n",
       "      <td>Episode 1</td>\n",
       "      <td>Winter is Coming</td>\n",
       "      <td>will</td>\n",
       "      <td>Close as any man would.</td>\n",
       "      <td>neutral</td>\n",
       "    </tr>\n",
       "    <tr>\n",
       "      <th>4</th>\n",
       "      <td>2011-04-17</td>\n",
       "      <td>Season 1</td>\n",
       "      <td>Episode 1</td>\n",
       "      <td>Winter is Coming</td>\n",
       "      <td>gared</td>\n",
       "      <td>We should head back to the wall.</td>\n",
       "      <td>fear</td>\n",
       "    </tr>\n",
       "    <tr>\n",
       "      <th>...</th>\n",
       "      <td>...</td>\n",
       "      <td>...</td>\n",
       "      <td>...</td>\n",
       "      <td>...</td>\n",
       "      <td>...</td>\n",
       "      <td>...</td>\n",
       "      <td>...</td>\n",
       "    </tr>\n",
       "    <tr>\n",
       "      <th>3995</th>\n",
       "      <td>2012-04-15</td>\n",
       "      <td>Season 2</td>\n",
       "      <td>Episode 3</td>\n",
       "      <td>What Is Dead May Never Die</td>\n",
       "      <td>jeor</td>\n",
       "      <td>Aye, many a time that monster has been the dif...</td>\n",
       "      <td>neutral</td>\n",
       "    </tr>\n",
       "    <tr>\n",
       "      <th>3996</th>\n",
       "      <td>2012-04-15</td>\n",
       "      <td>Season 2</td>\n",
       "      <td>Episode 3</td>\n",
       "      <td>What Is Dead May Never Die</td>\n",
       "      <td>jon snow</td>\n",
       "      <td>I... I saw it. I saw... something take that ch...</td>\n",
       "      <td>surprise</td>\n",
       "    </tr>\n",
       "    <tr>\n",
       "      <th>3997</th>\n",
       "      <td>2012-04-15</td>\n",
       "      <td>Season 2</td>\n",
       "      <td>Episode 3</td>\n",
       "      <td>What Is Dead May Never Die</td>\n",
       "      <td>jeor</td>\n",
       "      <td>Yeah. Whatever it was, I daresay you'll see it...</td>\n",
       "      <td>neutral</td>\n",
       "    </tr>\n",
       "    <tr>\n",
       "      <th>3998</th>\n",
       "      <td>2012-04-15</td>\n",
       "      <td>Season 2</td>\n",
       "      <td>Episode 3</td>\n",
       "      <td>What Is Dead May Never Die</td>\n",
       "      <td>jeor</td>\n",
       "      <td>Don't lose it again.</td>\n",
       "      <td>neutral</td>\n",
       "    </tr>\n",
       "    <tr>\n",
       "      <th>3999</th>\n",
       "      <td>2012-04-15</td>\n",
       "      <td>Season 2</td>\n",
       "      <td>Episode 3</td>\n",
       "      <td>What Is Dead May Never Die</td>\n",
       "      <td>sam</td>\n",
       "      <td>Gilly.</td>\n",
       "      <td>neutral</td>\n",
       "    </tr>\n",
       "  </tbody>\n",
       "</table>\n",
       "<p>4000 rows × 7 columns</p>\n",
       "</div>"
      ],
      "text/plain": [
       "     Release Date    Season    Episode               Episode Title  \\\n",
       "0      2011-04-17  Season 1  Episode 1            Winter is Coming   \n",
       "1      2011-04-17  Season 1  Episode 1            Winter is Coming   \n",
       "2      2011-04-17  Season 1  Episode 1            Winter is Coming   \n",
       "3      2011-04-17  Season 1  Episode 1            Winter is Coming   \n",
       "4      2011-04-17  Season 1  Episode 1            Winter is Coming   \n",
       "...           ...       ...        ...                         ...   \n",
       "3995   2012-04-15  Season 2  Episode 3  What Is Dead May Never Die   \n",
       "3996   2012-04-15  Season 2  Episode 3  What Is Dead May Never Die   \n",
       "3997   2012-04-15  Season 2  Episode 3  What Is Dead May Never Die   \n",
       "3998   2012-04-15  Season 2  Episode 3  What Is Dead May Never Die   \n",
       "3999   2012-04-15  Season 2  Episode 3  What Is Dead May Never Die   \n",
       "\n",
       "              Name                                           Sentence  \\\n",
       "0     waymar royce  What do you expect? They're savages. One lot s...   \n",
       "1             will  I've never seen wildlings do a thing like this...   \n",
       "2     waymar royce                             How close did you get?   \n",
       "3             will                            Close as any man would.   \n",
       "4            gared                   We should head back to the wall.   \n",
       "...            ...                                                ...   \n",
       "3995          jeor  Aye, many a time that monster has been the dif...   \n",
       "3996      jon snow  I... I saw it. I saw... something take that ch...   \n",
       "3997          jeor  Yeah. Whatever it was, I daresay you'll see it...   \n",
       "3998          jeor                               Don't lose it again.   \n",
       "3999           sam                                             Gilly.   \n",
       "\n",
       "     predicted_emotion  \n",
       "0              disgust  \n",
       "1              disgust  \n",
       "2             surprise  \n",
       "3              neutral  \n",
       "4                 fear  \n",
       "...                ...  \n",
       "3995           neutral  \n",
       "3996          surprise  \n",
       "3997           neutral  \n",
       "3998           neutral  \n",
       "3999           neutral  \n",
       "\n",
       "[4000 rows x 7 columns]"
      ]
     },
     "execution_count": 14,
     "metadata": {},
     "output_type": "execute_result"
    }
   ],
   "source": [
    "data3"
   ]
  },
  {
   "cell_type": "code",
   "execution_count": null,
   "metadata": {},
   "outputs": [],
   "source": [
    "def plot_season(df, outpath):\n",
    "    plot = sns.catplot(df, x = \"predicted_emotion\", hue = \"predicted_emotion\", col = \"Season\", kind = \"count\", \n",
    "                palette = emotion_colors.values(), lengend = False, col_wrap = 4)\n",
    "    plot.set_axis_labels(\"\", \"test\")\n",
    "    plt.savefig(outpath)\n",
    "\n",
    "def plot_emotion(df, outpath):\n",
    "    sns.catplot(data3, x = \"Season\", hue = \"Season\", col = \"predicted_emotion\", kind = \"count\",\n",
    "                palette = \"husl\", col_wrap = 4)\n",
    "    plt.savefig(outpath)\n"
   ]
  },
  {
   "cell_type": "code",
   "execution_count": 48,
   "metadata": {},
   "outputs": [],
   "source": [
    "# Define a dictionary mapping emotions to colors\n",
    "emotion_colors = {\"disgust\": \"purple\",\n",
    "                \"surprise\": \"yellow\",\n",
    "                \"neutral\": \"lightgray\",\n",
    "                \"fear\": \"orange\",\n",
    "                \"anger\": \"red\",\n",
    "                \"joy\": \"green\",\n",
    "                \"sadness\": \"blue\"}\n",
    "\n",
    "# Function to specify color based on emotion\n",
    "#def color_specifier(emotion):\n",
    "#    return emotion_colors.get(emotion)\n"
   ]
  },
  {
   "cell_type": "code",
   "execution_count": 49,
   "metadata": {},
   "outputs": [
    {
     "data": {
      "text/plain": [
       "<seaborn.axisgrid.FacetGrid at 0x7f6e90156650>"
      ]
     },
     "execution_count": 49,
     "metadata": {},
     "output_type": "execute_result"
    },
    {
     "data": {
      "image/png": "[encoded data removed]",
      "text/plain": [
       "<Figure size 2000x500 with 2 Axes>"
      ]
     },
     "metadata": {},
     "output_type": "display_data"
    }
   ],
   "source": [
    "# Apply the color specifier function to the df\n",
    "#data3[\"color\"] = data3[\"predicted_emotion\"].apply(color_specifier)\n",
    "\n",
    "plot = sns.catplot(data = data3,\n",
    "                    x = \"predicted_emotion\",\n",
    "                    hue = \"color\",\n",
    "                    col = \"Season\",\n",
    "                    kind = \"count\",\n",
    "                    palette = emotion_colors.values(),\n",
    "                    legend = False,\n",
    "                    col_wrap = 4)\n",
    "\n",
    "plot.set_axis_labels(\"\", \"test\")\n",
    "plot.set_axis_labels(\"\", \"test\")\n"
   ]
  },
  {
   "cell_type": "code",
   "execution_count": 18,
   "metadata": {},
   "outputs": [
    {
     "name": "stderr",
     "output_type": "stream",
     "text": [
      "No artists with labels found to put in legend.  Note that artists whose label start with an underscore are ignored when legend() is called with no argument.\n",
      "No artists with labels found to put in legend.  Note that artists whose label start with an underscore are ignored when legend() is called with no argument.\n"
     ]
    },
    {
     "data": {
      "text/plain": [
       "<Figure size 1200x800 with 0 Axes>"
      ]
     },
     "metadata": {},
     "output_type": "display_data"
    },
    {
     "data": {
      "image/png": "[encoded data removed]",
      "text/plain": [
       "<Figure size 1000x500 with 2 Axes>"
      ]
     },
     "metadata": {},
     "output_type": "display_data"
    }
   ],
   "source": [
    "seasons = sorted(data3['Season'].unique())\n",
    "\n",
    "sns.set(style = \"whitegrid\")\n",
    "\n",
    "plt.figure(figsize = (12, 8))\n",
    "\n",
    "#for season in seasons:\n",
    "#subset = data3[data3['Season'] == season]\n",
    "            \n",
    "sns.catplot(data3, x = \"predicted_emotion\", hue = \"predicted_emotion\", col = \"Season\", kind = \"count\")\n",
    "\n",
    "# Plot formatting\n",
    "plt.legend(title = 'Emotion', loc = 'upper left')\n",
    "plt.legend(prop = {'size': 16}, title = 'Emotions')\n",
    "plt.title(f'Density Plot of all emotions in {season}')\n",
    "plt.xlabel('Emotion distrubution')\n",
    "plt.ylabel('Density')\n",
    "\n",
    "\n",
    "plt.show()"
   ]
  }
 ],
 "metadata": {
  "kernelspec": {
   "display_name": "Python 3",
   "language": "python",
   "name": "python3"
  },
  "language_info": {
   "codemirror_mode": {
    "name": "ipython",
    "version": 3
   },
   "file_extension": ".py",
   "mimetype": "text/x-python",
   "name": "python",
   "nbconvert_exporter": "python",
   "pygments_lexer": "ipython3",
   "version": "3.10.12"
  }
 },
 "nbformat": 4,
 "nbformat_minor": 2
}
