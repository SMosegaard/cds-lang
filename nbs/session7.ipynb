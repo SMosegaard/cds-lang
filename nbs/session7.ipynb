{
 "cells": [
  {
   "cell_type": "markdown",
   "metadata": {},
   "source": [
    "## Session 7 - virtual envoriments"
   ]
  },
  {
   "cell_type": "code",
   "execution_count": null,
   "metadata": {},
   "outputs": [],
   "source": [
    "# Run setup bash script\n",
    "bash setup.sh"
   ]
  },
  {
   "cell_type": "code",
   "execution_count": null,
   "metadata": {},
   "outputs": [],
   "source": [
    "#### In the terminal: ####\n",
    "\n",
    "# Create virtual envoriment called env\n",
    "python -m venv env\n",
    "\n",
    "# Go to file called avtivate - run it and activate the virt env\n",
    "source ./env/bin/activate   \n",
    "\n",
    "# Install requirements and all the packages specified in the requirements.txt file\n",
    "pip install --upgrade pip\n",
    "pip install -r requirements.txt \n",
    "\n",
    "# Install pipreqs\n",
    "pipreqs\n",
    "\n",
    "# Now, we can run the code in the py script\n",
    "python src/test.py \n",
    "\n",
    "# Close the envoriment\n",
    "deactivate                  "
   ]
  }
 ],
 "metadata": {
  "kernelspec": {
   "display_name": "Python 3",
   "language": "python",
   "name": "python3"
  },
  "language_info": {
   "name": "python",
   "version": "3.10.12"
  }
 },
 "nbformat": 4,
 "nbformat_minor": 2
}
